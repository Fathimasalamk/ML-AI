{
  "nbformat": 4,
  "nbformat_minor": 0,
  "metadata": {
    "colab": {
      "provenance": [],
      "authorship_tag": "ABX9TyO6BZlcmtd8VevIF5WmPOCt",
      "include_colab_link": true
    },
    "kernelspec": {
      "name": "python3",
      "display_name": "Python 3"
    },
    "language_info": {
      "name": "python"
    }
  },
  "cells": [
    {
      "cell_type": "markdown",
      "metadata": {
        "id": "view-in-github",
        "colab_type": "text"
      },
      "source": [
        "<a href=\"https://colab.research.google.com/github/Fathimasalamk/ML-AI/blob/day1/day1assignment.ipynb\" target=\"_parent\"><img src=\"https://colab.research.google.com/assets/colab-badge.svg\" alt=\"Open In Colab\"/></a>"
      ]
    },
    {
      "cell_type": "code",
      "execution_count": null,
      "metadata": {
        "colab": {
          "base_uri": "https://localhost:8080/"
        },
        "id": "d7ZhivA4polf",
        "outputId": "bc9d1913-fdca-4bb1-d8d1-38588b3ec2a3"
      },
      "outputs": [
        {
          "output_type": "stream",
          "name": "stdout",
          "text": [
            "[1, 2, 3, 4, 5, 6]\n",
            "[1, 2, 3, 4, 5, 6]\n",
            "[1, 2, 3, 4, 5, 6]\n",
            "[1, 2, 3, 4, 5, 6]\n",
            "[1, 2, 3, 4, 5, 6]\n",
            "[1, 2, 3, 4, 5, 6]\n"
          ]
        }
      ],
      "source": [
        "a=[1,2,3,4,5,6]\n",
        "for item in a:\n",
        "  print (a)"
      ]
    },
    {
      "cell_type": "code",
      "source": [
        "a={'shijina','goutham','zara'}\n",
        "print(a)"
      ],
      "metadata": {
        "colab": {
          "base_uri": "https://localhost:8080/"
        },
        "id": "6Vd6j_6J_cBV",
        "outputId": "ec04122e-b8cd-4686-d715-2e9a0f7996de"
      },
      "execution_count": null,
      "outputs": [
        {
          "output_type": "stream",
          "name": "stdout",
          "text": [
            "{'shijina', 'zara', 'goutham'}\n"
          ]
        }
      ]
    },
    {
      "cell_type": "code",
      "source": [
        "names= ['shijina', 'aisha', 'fathima', 'priya']\n",
        "\n",
        "for i in range(len(names))//2):\n",
        "    temp = names[i]\n",
        "    names[i] = names[-i-1]\n",
        "    names[-i-1] = temp\n",
        "\n",
        "print(names)"
      ],
      "metadata": {
        "id": "LYX9mgBf8IGN",
        "colab": {
          "base_uri": "https://localhost:8080/",
          "height": 130
        },
        "outputId": "2584b76e-b090-49bd-c6df-3368e7ec3c9d"
      },
      "execution_count": null,
      "outputs": [
        {
          "output_type": "error",
          "ename": "SyntaxError",
          "evalue": "ignored",
          "traceback": [
            "\u001b[0;36m  File \u001b[0;32m\"<ipython-input-12-a25f94693a5b>\"\u001b[0;36m, line \u001b[0;32m3\u001b[0m\n\u001b[0;31m    for i in range(len(names))//2):\u001b[0m\n\u001b[0m                                 ^\u001b[0m\n\u001b[0;31mSyntaxError\u001b[0m\u001b[0;31m:\u001b[0m unmatched ')'\n"
          ]
        }
      ]
    },
    {
      "cell_type": "code",
      "source": [
        "print(233)\n",
        "print(4.9)"
      ],
      "metadata": {
        "colab": {
          "base_uri": "https://localhost:8080/"
        },
        "id": "BjXRc_w4QsUx",
        "outputId": "e3058294-e6d6-402a-9f2c-0b9309856118"
      },
      "execution_count": null,
      "outputs": [
        {
          "output_type": "stream",
          "name": "stdout",
          "text": [
            "233\n",
            "4.9\n"
          ]
        }
      ]
    },
    {
      "cell_type": "code",
      "source": [
        "print(\"welcome to\",end='')\n",
        "print(\"the world of python\",end='')\n",
        "print(\"\\\"welcome to the world or python\\\"\")"
      ],
      "metadata": {
        "colab": {
          "base_uri": "https://localhost:8080/"
        },
        "id": "mJ6E0okTQso_",
        "outputId": "1c9fa34f-4571-4f89-eee3-2c9d04861c66"
      },
      "execution_count": null,
      "outputs": [
        {
          "output_type": "stream",
          "name": "stdout",
          "text": [
            "welcome tothe world of python\"welcome to the world or python\"\n"
          ]
        }
      ]
    },
    {
      "cell_type": "code",
      "source": [
        "print(\"python\"*3)"
      ],
      "metadata": {
        "colab": {
          "base_uri": "https://localhost:8080/"
        },
        "id": "yjKy2z7zRt-F",
        "outputId": "2e1f1d62-c6f9-4824-cf93-c24e02043630"
      },
      "execution_count": null,
      "outputs": [
        {
          "output_type": "stream",
          "name": "stdout",
          "text": [
            "pythonpythonpython\n"
          ]
        }
      ]
    },
    {
      "cell_type": "code",
      "source": [
        "print(\"python\\n\"*3)"
      ],
      "metadata": {
        "colab": {
          "base_uri": "https://localhost:8080/"
        },
        "id": "rfPAWhD9RuIW",
        "outputId": "d2e34e10-67fb-42e1-878a-bfb218b083fa"
      },
      "execution_count": null,
      "outputs": [
        {
          "output_type": "stream",
          "name": "stdout",
          "text": [
            "python\n",
            "python\n",
            "python\n",
            "\n"
          ]
        }
      ]
    },
    {
      "cell_type": "code",
      "source": [
        "s=\"python\"\n",
        "print(s[0])\n",
        "print(s[-3])\n",
        "print(s[1])\n",
        "print(len(s))"
      ],
      "metadata": {
        "colab": {
          "base_uri": "https://localhost:8080/"
        },
        "id": "dTVHnQuYRuL7",
        "outputId": "00aad20f-2993-4164-be08-c2cd34133b43"
      },
      "execution_count": null,
      "outputs": [
        {
          "output_type": "stream",
          "name": "stdout",
          "text": [
            "p\n",
            "h\n",
            "y\n",
            "6\n"
          ]
        }
      ]
    },
    {
      "cell_type": "code",
      "source": [
        "s=\"python\"\n",
        "print(s[0:4])\n",
        "print(s[:3])\n",
        "print(s[-5:-2])\n",
        "print(s[0:6:2])"
      ],
      "metadata": {
        "colab": {
          "base_uri": "https://localhost:8080/"
        },
        "id": "cfVh2lPGSn20",
        "outputId": "947c6651-ee28-4c0b-f81a-cd79874256f0"
      },
      "execution_count": null,
      "outputs": [
        {
          "output_type": "stream",
          "name": "stdout",
          "text": [
            "pyth\n",
            "pyt\n",
            "yth\n",
            "pto\n"
          ]
        }
      ]
    },
    {
      "cell_type": "code",
      "source": [
        "a=[1,2,3,4,5,6]\n",
        "for item in a:\n",
        "  print (a)"
      ],
      "metadata": {
        "id": "-NBiDh1sTu2o",
        "colab": {
          "base_uri": "https://localhost:8080/"
        },
        "outputId": "69b7636a-5e34-4ac2-a89b-552fbde8952d"
      },
      "execution_count": null,
      "outputs": [
        {
          "output_type": "stream",
          "name": "stdout",
          "text": [
            "[1, 2, 3, 4, 5, 6]\n",
            "[1, 2, 3, 4, 5, 6]\n",
            "[1, 2, 3, 4, 5, 6]\n",
            "[1, 2, 3, 4, 5, 6]\n",
            "[1, 2, 3, 4, 5, 6]\n",
            "[1, 2, 3, 4, 5, 6]\n"
          ]
        }
      ]
    },
    {
      "cell_type": "code",
      "source": [
        "for val in \"string\":\n",
        "  if val==\"i\":\n",
        "    continue\n",
        "  print(val)\n",
        "  print(\"the end \")\n"
      ],
      "metadata": {
        "colab": {
          "base_uri": "https://localhost:8080/"
        },
        "id": "XH7zQysQuJmc",
        "outputId": "6990cb94-09c8-4712-d7b0-48709f13496a"
      },
      "execution_count": null,
      "outputs": [
        {
          "output_type": "stream",
          "name": "stdout",
          "text": [
            "s\n",
            "the end \n",
            "t\n",
            "the end \n",
            "r\n",
            "the end \n",
            "n\n",
            "the end \n",
            "g\n",
            "the end \n"
          ]
        }
      ]
    },
    {
      "cell_type": "code",
      "source": [
        "for val in \"string\":\n",
        "  if val==\"i\":\n",
        "    break\n",
        "  print(val)\n",
        "  print(\"the end \")\n"
      ],
      "metadata": {
        "colab": {
          "base_uri": "https://localhost:8080/"
        },
        "id": "7Fi7s-vGwaH5",
        "outputId": "ec43b7e2-fb7e-40a3-8ac8-51943a3343d2"
      },
      "execution_count": null,
      "outputs": [
        {
          "output_type": "stream",
          "name": "stdout",
          "text": [
            "s\n",
            "the end \n",
            "t\n",
            "the end \n",
            "r\n",
            "the end \n"
          ]
        }
      ]
    },
    {
      "cell_type": "code",
      "source": [
        "a=int(input(\"enter the first number1:\"))\n",
        "b=int(input(\"enter the second number2:\"))\n",
        "print('select operation:')\n",
        "print('1.addition:')\n",
        "print('2.subtraction:')\n",
        "print('3.multiplication:')\n",
        "print('4.division:')\n",
        "n=int(input(\"enter the option:\"))\n",
        "if(n==1):\n",
        "  r=a+b\n",
        "  print(r)\n",
        "elif(n==2):\n",
        "  r=a-b\n",
        "  print(r)\n",
        "elif(n==3):\n",
        "  r=a*b\n",
        "  print(r)\n",
        "elif(n==4):\n",
        "  r=a/b\n",
        "  print(r)\n",
        "else:\n",
        "    print('wrong input:')"
      ],
      "metadata": {
        "colab": {
          "base_uri": "https://localhost:8080/"
        },
        "id": "ALXLkuRjyZFI",
        "outputId": "3ecf3cc0-02b0-463b-c6e0-dbfd288825ba"
      },
      "execution_count": null,
      "outputs": [
        {
          "output_type": "stream",
          "name": "stdout",
          "text": [
            "enter the first number1:2\n",
            "enter the second number2:4\n",
            "select operation:\n",
            "1.addition:\n",
            "2.subtraction:\n",
            "3.multiplication:\n",
            "4.division:\n",
            "enter the option:1\n",
            "6\n"
          ]
        }
      ]
    },
    {
      "cell_type": "code",
      "source": [
        "num=int(input(\"enter the number:\"));\n",
        "c=0\n",
        "i=1\n",
        "while(i<=num): \n",
        " if num%i==0:\n",
        "  c=c+1\n",
        "  i=i+1\n",
        "if c==2:\n",
        "  print (\"number is prime\")\n",
        "else:\n",
        "  print(\"number is not prime\")"
      ],
      "metadata": {
        "colab": {
          "base_uri": "https://localhost:8080/"
        },
        "id": "_9krd4WQ43gB",
        "outputId": "58f414f1-d553-43af-c596-597ea5380c47"
      },
      "execution_count": null,
      "outputs": [
        {
          "output_type": "stream",
          "name": "stdout",
          "text": [
            "enter the number:2\n",
            "number is prime\n"
          ]
        }
      ]
    },
    {
      "cell_type": "code",
      "source": [
        "year=int(input(\"enter the number:\"))\n",
        "if year%4==0:\n",
        "  print(\"leap year\")\n",
        "elif year%400==0:\n",
        "  print(\"leap year\")\n",
        "else:\n",
        " print(\"not leap year\")\n"
      ],
      "metadata": {
        "colab": {
          "base_uri": "https://localhost:8080/"
        },
        "id": "QxIKmn_54HXP",
        "outputId": "bee2fd4e-a68a-465b-e190-07fda824afe5"
      },
      "execution_count": null,
      "outputs": [
        {
          "output_type": "stream",
          "name": "stdout",
          "text": [
            "enter the number:2020\n",
            "leap year\n"
          ]
        }
      ]
    },
    {
      "cell_type": "code",
      "source": [
        "a=int(input(\"Enter the Number:\"))\n",
        "s=0\n",
        "for i in range(0,a+1):\n",
        "  s=s+i\n",
        "print(\"The Sum  is:\",s);"
      ],
      "metadata": {
        "colab": {
          "base_uri": "https://localhost:8080/"
        },
        "id": "tnJSFsyO97RR",
        "outputId": "d6668a2f-1f66-4655-a06b-21b5aad5a608"
      },
      "execution_count": null,
      "outputs": [
        {
          "output_type": "stream",
          "name": "stdout",
          "text": [
            "Enter the Number:5\n",
            "The Sum  is: 15\n"
          ]
        }
      ]
    },
    {
      "cell_type": "code",
      "source": [
        "print(233)\n",
        "print(4.9)\n"
      ],
      "metadata": {
        "colab": {
          "base_uri": "https://localhost:8080/"
        },
        "id": "jTc2wm59BS-8",
        "outputId": "e39af7bb-35b3-4537-a414-ee1e8a0313b9"
      },
      "execution_count": null,
      "outputs": [
        {
          "output_type": "stream",
          "name": "stdout",
          "text": [
            "233\n",
            "4.9\n"
          ]
        }
      ]
    },
    {
      "cell_type": "code",
      "source": [
        "array=['fathima','shifana','priya'];\n",
        "for i in range(len(array)-1,-1,-1):\n",
        "    print(array[i]);"
      ],
      "metadata": {
        "colab": {
          "base_uri": "https://localhost:8080/"
        },
        "id": "0nGJw_n2CE2c",
        "outputId": "7aeeb3fc-ee57-4847-97b3-4a0da82fe111"
      },
      "execution_count": null,
      "outputs": [
        {
          "output_type": "stream",
          "name": "stdout",
          "text": [
            "priya\n",
            "shifana\n",
            "fathima\n"
          ]
        }
      ]
    },
    {
      "cell_type": "code",
      "source": [
        "def function_name(argument):\n",
        "   #function perform operation"
      ],
      "metadata": {
        "id": "geiI460XG5bl"
      },
      "execution_count": null,
      "outputs": []
    },
    {
      "cell_type": "code",
      "source": [
        "def greet():\n",
        "  print('hello')\n",
        "greet()"
      ],
      "metadata": {
        "colab": {
          "base_uri": "https://localhost:8080/"
        },
        "id": "cvANRVBAHElA",
        "outputId": "7e560b56-140e-4860-a9e9-3bc81e1752c0"
      },
      "execution_count": null,
      "outputs": [
        {
          "output_type": "stream",
          "name": "stdout",
          "text": [
            "hello\n"
          ]
        }
      ]
    },
    {
      "cell_type": "code",
      "source": [
        "def addnumber(num1,num2):\n",
        "   sum=num1+num2\n",
        "   print(sum)\n",
        "addnumber(4,5)"
      ],
      "metadata": {
        "colab": {
          "base_uri": "https://localhost:8080/"
        },
        "id": "qB9VI9WmJc0m",
        "outputId": "7b8f326b-3521-46a7-8877-4495909b234a"
      },
      "execution_count": null,
      "outputs": [
        {
          "output_type": "stream",
          "name": "stdout",
          "text": [
            "9\n"
          ]
        }
      ]
    },
    {
      "cell_type": "code",
      "source": [
        "def squarenumber(num1):\n",
        "   square=num1*num1\n",
        "   print(square)\n",
        "squarenumber(5)"
      ],
      "metadata": {
        "colab": {
          "base_uri": "https://localhost:8080/"
        },
        "id": "Ej4Ao52CK0My",
        "outputId": "a35e8cfe-bbf6-4725-920a-b9b9ed4b9173"
      },
      "execution_count": null,
      "outputs": [
        {
          "output_type": "stream",
          "name": "stdout",
          "text": [
            "25\n"
          ]
        }
      ]
    },
    {
      "cell_type": "code",
      "source": [
        "def sqr(a):\n",
        "  print(\"square of a number is:\",a*a)\n",
        "n=int(input(\"enter the number:\"))\n",
        "sqr(n)"
      ],
      "metadata": {
        "colab": {
          "base_uri": "https://localhost:8080/"
        },
        "id": "L9C_v8NqLOU6",
        "outputId": "b427d55c-b327-489c-8431-e8df4358ee44"
      },
      "execution_count": null,
      "outputs": [
        {
          "output_type": "stream",
          "name": "stdout",
          "text": [
            "enter the number:2\n",
            "square of a number is: 4\n"
          ]
        }
      ]
    },
    {
      "cell_type": "code",
      "source": [
        "\n",
        "list = [1,5,3,14,25,21]\n",
        "s=0\n",
        "for i in list:\n",
        "  s = s+i\n",
        "print(\"the sum is:\",s)"
      ],
      "metadata": {
        "colab": {
          "base_uri": "https://localhost:8080/"
        },
        "id": "UOopDaq28VOm",
        "outputId": "d4bf5722-fe7f-4a3c-8b37-065fc8ec3950"
      },
      "execution_count": null,
      "outputs": [
        {
          "output_type": "stream",
          "name": "stdout",
          "text": [
            "the sum is: 69\n"
          ]
        }
      ]
    },
    {
      "cell_type": "code",
      "source": [
        "string = input(\"enter the string:\")\n",
        "print(len(string))"
      ],
      "metadata": {
        "colab": {
          "base_uri": "https://localhost:8080/"
        },
        "id": "x8Bw2aoj9aI3",
        "outputId": "cb45c46e-be1e-4176-edbe-9879980f54fb"
      },
      "execution_count": null,
      "outputs": [
        {
          "output_type": "stream",
          "name": "stdout",
          "text": [
            "enter the string:how are you\n",
            "11\n"
          ]
        }
      ]
    },
    {
      "cell_type": "code",
      "source": [
        "string = input(\"enter the string:\")\n",
        "print(len(string))\n",
        "print(len(string)//2)"
      ],
      "metadata": {
        "colab": {
          "base_uri": "https://localhost:8080/"
        },
        "id": "3ca_sQ9H-A3S",
        "outputId": "1f3b416b-4929-4426-c0ca-dc01fec969cf"
      },
      "execution_count": null,
      "outputs": [
        {
          "output_type": "stream",
          "name": "stdout",
          "text": [
            "enter the string:how are you\n",
            "11\n",
            "5\n"
          ]
        }
      ]
    },
    {
      "cell_type": "code",
      "source": [
        "s1 = input(\"enter the first string:\")\n",
        "s2 = input(\"enter the second string:\")\n",
        "newstring = s1+\" \"+s2\n",
        "print(\"sum of two strings are:\",newstring)\n",
        "print(len(newstring))\n"
      ],
      "metadata": {
        "colab": {
          "base_uri": "https://localhost:8080/"
        },
        "id": "vqFoBVTo-Rqc",
        "outputId": "bc852793-def7-4488-f09d-bc45294c465d"
      },
      "execution_count": null,
      "outputs": [
        {
          "output_type": "stream",
          "name": "stdout",
          "text": [
            "enter the first string:fathima\n",
            "enter the second string:priya\n",
            "sum of two strings are: fathima priya\n",
            "13\n"
          ]
        }
      ]
    },
    {
      "cell_type": "code",
      "source": [
        "t1 = ('78','45','32','19','82','77','40','39')\n",
        "list1 = list(t1)\n",
        "list1[2]=100\n",
        "print(list1)"
      ],
      "metadata": {
        "colab": {
          "base_uri": "https://localhost:8080/"
        },
        "id": "EonF-Sbr4hpE",
        "outputId": "38cbd167-4356-42ee-db96-a00636a42ab1"
      },
      "execution_count": null,
      "outputs": [
        {
          "output_type": "stream",
          "name": "stdout",
          "text": [
            "['78', '45', 100, '19', '82', '77', '40', '39']\n"
          ]
        }
      ]
    },
    {
      "cell_type": "code",
      "source": [
        "list = [19,32,10,55,31,32,94,29,10,65,77,40,40]\n",
        "list.remove(32)\n",
        "while 40 in list:\n",
        "    list.remove(40)\n",
        "del list[5]\n",
        "list[8]=300\n",
        "list[2]+=200\n",
        "print(\"the final list is:\",list)\n",
        "print(\"the length of final list:\",len(list))\n",
        "print(\"maximum value:\",max(list))\n",
        "print(\"the sum of final list is:\",sum(list))\n",
        "\n"
      ],
      "metadata": {
        "colab": {
          "base_uri": "https://localhost:8080/"
        },
        "id": "5Q-LP5I72esp",
        "outputId": "24212cda-4b49-4f9b-a855-3acb3742ede4"
      },
      "execution_count": null,
      "outputs": [
        {
          "output_type": "stream",
          "name": "stdout",
          "text": [
            "the final list is: [19, 10, 255, 31, 32, 29, 10, 65, 300]\n",
            "the length of final list: 9\n",
            "maximum value: 300\n",
            "the sum of final list is: 751\n"
          ]
        }
      ]
    }
  ]
}